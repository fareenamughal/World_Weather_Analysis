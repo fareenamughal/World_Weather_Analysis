{
 "cells": [
  {
   "cell_type": "code",
   "execution_count": 1,
   "id": "f47c6f3f",
   "metadata": {},
   "outputs": [],
   "source": [
    "import random\n",
    "import numpy as np\n",
    "import timeit\n",
    "\n",
    "\n",
    "#For testing, we'll use the randint(), random(), randrange(), and uniform() functions."
   ]
  },
  {
   "cell_type": "code",
   "execution_count": 2,
   "id": "25189aa3",
   "metadata": {},
   "outputs": [
    {
     "data": {
      "text/plain": [
       "89"
      ]
     },
     "execution_count": 2,
     "metadata": {},
     "output_type": "execute_result"
    }
   ],
   "source": [
    "# Will only return one integer, not a floating-point decimal\n",
    "random.randint(-90,90)"
   ]
  },
  {
   "cell_type": "code",
   "execution_count": 3,
   "id": "c88f373d",
   "metadata": {},
   "outputs": [
    {
     "data": {
      "text/plain": [
       "0.7888489244877906"
      ]
     },
     "execution_count": 3,
     "metadata": {},
     "output_type": "execute_result"
    }
   ],
   "source": [
    "random.random()\n"
   ]
  },
  {
   "cell_type": "code",
   "execution_count": 6,
   "id": "83072a7c",
   "metadata": {},
   "outputs": [
    {
     "data": {
      "text/plain": [
       "-67.29912772000066"
      ]
     },
     "execution_count": 6,
     "metadata": {},
     "output_type": "execute_result"
    }
   ],
   "source": [
    "random_number = random.randint(-90, 89) + random.random() \n",
    "random_number "
   ]
  },
  {
   "cell_type": "code",
   "execution_count": 11,
   "id": "0ca4adca",
   "metadata": {},
   "outputs": [],
   "source": [
    "# Initialize an empty list, latitudes.\n",
    "latitudes = [25.99999999999, 29.646554544454, 86.121111111111,- 85.00000454454, -39.5684544, 62.456487496, -89.464654456, 54.857878474, -69.4658464646, -65.546546546]"
   ]
  },
  {
   "cell_type": "code",
   "execution_count": 12,
   "id": "a3dd957b",
   "metadata": {},
   "outputs": [],
   "source": [
    "# Using these two functions, we can write an algorithm that will generate latitudes between -90 and 89. Here is a small sample of what it might take to generate ten random floating-point decimal latitudes between -90 and 89.\n",
    "x = 1\n",
    "latitudes = []\n",
    "while x < 11:\n",
    "    random_lat = random.randint(-90,89) + random.random()\n",
    "    latitudes.append(random_lat)\n",
    "    x += 1\n",
    "    "
   ]
  },
  {
   "cell_type": "code",
   "execution_count": null,
   "id": "cec481ee",
   "metadata": {},
   "outputs": [],
   "source": []
  },
  {
   "cell_type": "code",
   "execution_count": null,
   "id": "b09fb120",
   "metadata": {},
   "outputs": [],
   "source": []
  }
 ],
 "metadata": {
  "kernelspec": {
   "display_name": "PythonData",
   "language": "python",
   "name": "pythondata"
  },
  "language_info": {
   "codemirror_mode": {
    "name": "ipython",
    "version": 3
   },
   "file_extension": ".py",
   "mimetype": "text/x-python",
   "name": "python",
   "nbconvert_exporter": "python",
   "pygments_lexer": "ipython3",
   "version": "3.9.12"
  }
 },
 "nbformat": 4,
 "nbformat_minor": 5
}
