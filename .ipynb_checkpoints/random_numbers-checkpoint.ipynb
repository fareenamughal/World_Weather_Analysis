{
 "cells": [
  {
   "cell_type": "code",
   "execution_count": 1,
   "id": "9678cbb4",
   "metadata": {},
   "outputs": [],
   "source": [
    "import random\n",
    "import numpy as np\n",
    "import timeit\n",
    "\n",
    "\n",
    "#For testing, we'll use the randint(), random(), randrange(), and uniform() functions."
   ]
  },
  {
   "cell_type": "code",
   "execution_count": 2,
   "id": "bd61d4e5",
   "metadata": {},
   "outputs": [
    {
     "data": {
      "text/plain": [
       "-36"
      ]
     },
     "execution_count": 2,
     "metadata": {},
     "output_type": "execute_result"
    }
   ],
   "source": [
    "# Will only return one integer, not a floating-point decimal\n",
    "random.randint(-90,90)"
   ]
  },
  {
   "cell_type": "code",
   "execution_count": 3,
   "id": "9f23c5e0",
   "metadata": {},
   "outputs": [],
   "source": [
    "# The random() function may help us. This function returns only a floating-point decimal number between 0 and 1.0.random.random()\n"
   ]
  },
  {
   "cell_type": "code",
   "execution_count": 4,
   "id": "4ccc8469",
   "metadata": {},
   "outputs": [
    {
     "data": {
      "text/plain": [
       "3.199732937048434"
      ]
     },
     "execution_count": 4,
     "metadata": {},
     "output_type": "execute_result"
    }
   ],
   "source": [
    "random_number = random.randint(-90, 89) + random.random() \n",
    "random_number "
   ]
  },
  {
   "cell_type": "code",
   "execution_count": 5,
   "id": "32e2bf01",
   "metadata": {},
   "outputs": [],
   "source": [
    "# Initialize an empty list, latitudes.\n",
    "latitudes = [25.99999999999, 29.646554544454, 86.121111111111,- 85.00000454454, -39.5684544, 62.456487496, -89.464654456, 54.857878474, -69.4658464646, -65.546546546]"
   ]
  },
  {
   "cell_type": "code",
   "execution_count": 6,
   "id": "09a9a374",
   "metadata": {},
   "outputs": [],
   "source": [
    "# In the code block above, we:\n",
    "\n",
    "# Assign the variable x to 1.\n",
    "# Initialize an empty list, latitudes.\n",
    "# We create a while loop where we generate a random latitude and add it to the list.\n",
    "# After the random latitude is added to the list we add one to the variable \"x\".\n",
    "# The while loop condition is checked again and will continue to run as long as x is less than 11."
   ]
  },
  {
   "cell_type": "code",
   "execution_count": 7,
   "id": "26efbffc",
   "metadata": {},
   "outputs": [
    {
     "name": "stdout",
     "output_type": "stream",
     "text": [
      "[-20.21554392075439, 60.20537494104064, 51.91335651197887, -87.97827671133018, 19.92513586697212, -24.930799452778224, -32.701554516257794, 7.134102772272511, -32.47744707892235, 8.701251137810138]\n"
     ]
    }
   ],
   "source": [
    "# Using these two functions, we can write an algorithm that will generate latitudes between -90 and 89. Here is a small sample of what it might take to generate ten random floating-point decimal latitudes between -90 and 89.\n",
    "x = 1\n",
    "latitudes = []\n",
    "while x < 11:\n",
    "    random_lat = random.randint(-90, 89) + random.random()\n",
    "    latitudes.append(random_lat)\n",
    "    x += 1\n",
    "print(latitudes)"
   ]
  },
  {
   "cell_type": "code",
   "execution_count": 8,
   "id": "25baa3ad",
   "metadata": {},
   "outputs": [
    {
     "data": {
      "text/plain": [
       "48"
      ]
     },
     "execution_count": 8,
     "metadata": {},
     "output_type": "execute_result"
    }
   ],
   "source": [
    "# The randrange() Function - \n",
    "# there is an option to add a step parameter and set it equal to an integer, which will generate increments of a given integer value, from the lower to the upper limit.\n",
    "# Will not generate a floating-point decimal number.\n",
    "random.randrange(-90,90, step =1)\n"
   ]
  },
  {
   "cell_type": "code",
   "execution_count": 9,
   "id": "6c2037c0",
   "metadata": {},
   "outputs": [
    {
     "data": {
      "text/plain": [
       "0"
      ]
     },
     "execution_count": 9,
     "metadata": {},
     "output_type": "execute_result"
    }
   ],
   "source": [
    "random.randrange(-90,90, step =3)"
   ]
  },
  {
   "cell_type": "code",
   "execution_count": 10,
   "id": "15199bb6",
   "metadata": {},
   "outputs": [
    {
     "data": {
      "text/plain": [
       "-27"
      ]
     },
     "execution_count": 10,
     "metadata": {},
     "output_type": "execute_result"
    }
   ],
   "source": [
    "random.randrange(-90,90, step =7)"
   ]
  },
  {
   "cell_type": "code",
   "execution_count": 11,
   "id": "22ac931a",
   "metadata": {},
   "outputs": [
    {
     "data": {
      "text/plain": [
       "29.160127152474317"
      ]
     },
     "execution_count": 11,
     "metadata": {},
     "output_type": "execute_result"
    }
   ],
   "source": [
    "# Returns a floating-point decimal number between the interval, -90 and 90.\n",
    "# Will not generate a whole integer.\n",
    "random.uniform(-90, 90)"
   ]
  },
  {
   "cell_type": "code",
   "execution_count": 12,
   "id": "fb5eb745",
   "metadata": {},
   "outputs": [
    {
     "data": {
      "text/plain": [
       "62.6636290700408"
      ]
     },
     "execution_count": 12,
     "metadata": {},
     "output_type": "execute_result"
    }
   ],
   "source": [
    "# The NumPy module has a built-in random module, and supplements the built-in Python random module. \n",
    "# There is no need to import the random module if we import the NumPy module, as it's redundant.\n",
    "np.random.uniform(low=-90, high=90)"
   ]
  },
  {
   "cell_type": "code",
   "execution_count": 13,
   "id": "aede2a87",
   "metadata": {},
   "outputs": [
    {
     "data": {
      "text/plain": [
       "array([-75.71200817, -18.28162052, -42.37019381,  56.38199825,\n",
       "        38.46889399, -46.30313127, -15.17611607,  -8.8597412 ,\n",
       "        59.16792605,  51.3443219 , -89.68010999, -76.66782697,\n",
       "       -47.41571834,  22.32344885,  51.30284899, -41.2962385 ,\n",
       "       -82.10410214,  22.16915177,  67.83182966,   7.70219384,\n",
       "       -83.802088  , -53.95302823, -14.32593008,  20.01042969,\n",
       "        -4.26066754,  -1.57922643,   6.18561003,  21.89653854,\n",
       "       -62.13030709, -45.52168554, -49.7706122 , -64.26991805,\n",
       "       -83.02681037,  66.59713151,  70.2524334 ,  41.58777562,\n",
       "        48.67472549, -16.71281664,  35.99202219,  16.98618349,\n",
       "        24.0445612 , -85.01700216,  -0.56794521,  19.14311686,\n",
       "        66.36305432,  77.59115809, -13.78802306,  68.92851456,\n",
       "        81.68780848,  24.45633533])"
      ]
     },
     "execution_count": 13,
     "metadata": {},
     "output_type": "execute_result"
    }
   ],
   "source": [
    "#To generate more than one floating-point decimal number between -90 and 90, we can add the size parameter when we use the NumPy module and set that equal to any whole number.\n",
    "np.random.uniform(-90.000, 90.000, size=50)"
   ]
  },
  {
   "cell_type": "code",
   "execution_count": 14,
   "id": "ad91a2ab",
   "metadata": {},
   "outputs": [],
   "source": [
    "# To test how long a piece of code or function takes to run, we can import the \"timeit\" module and use the %timeit magic command when we run our code or call the function."
   ]
  },
  {
   "cell_type": "code",
   "execution_count": 15,
   "id": "929c3f39",
   "metadata": {},
   "outputs": [
    {
     "name": "stdout",
     "output_type": "stream",
     "text": [
      "17.4 µs ± 124 ns per loop (mean ± std. dev. of 7 runs, 100,000 loops each)\n"
     ]
    }
   ],
   "source": [
    "%timeit np.random.uniform(-90.000, 90.000, size=1500)\n"
   ]
  },
  {
   "cell_type": "code",
   "execution_count": 23,
   "id": "f3e3d8d4",
   "metadata": {},
   "outputs": [
    {
     "name": "stdout",
     "output_type": "stream",
     "text": [
      "1.45 ms ± 2.42 µs per loop (mean ± std. dev. of 7 runs, 1,000 loops each)\n"
     ]
    }
   ],
   "source": [
    "def latitudes(size):\n",
    "    latitudes = []\n",
    "    x = 0\n",
    "    while x < (size):\n",
    "        random_lat = random.randint(-90, 90) + random.random()\n",
    "        latitudes.append(random_lat)\n",
    "        x += 1\n",
    "    return latitudes\n",
    "# Call the function with 1500.\n",
    "%timeit latitudes(1500)"
   ]
  },
  {
   "cell_type": "code",
   "execution_count": 26,
   "id": "528cb289",
   "metadata": {},
   "outputs": [
    {
     "name": "stdout",
     "output_type": "stream",
     "text": [
      "995 ns ± 1.44 ns per loop (mean ± std. dev. of 7 runs, 1,000,000 loops each)\n"
     ]
    }
   ],
   "source": [
    "# refactored code\n",
    "def random_lat(size):\n",
    "    random_lat = [0, 1500]\n",
    "    random_lat = random.randint(-90, 90)+ random.random()\n",
    "%timeit random_lat(1500)"
   ]
  },
  {
   "cell_type": "code",
   "execution_count": null,
   "id": "a77e9870",
   "metadata": {},
   "outputs": [],
   "source": []
  },
  {
   "cell_type": "code",
   "execution_count": null,
   "id": "a1e52a8c",
   "metadata": {},
   "outputs": [],
   "source": []
  },
  {
   "cell_type": "code",
   "execution_count": null,
   "id": "409b8df2",
   "metadata": {},
   "outputs": [],
   "source": [
    "# Create a set of random latitude and longitude combinations.\n",
    "lats = np.random.uniform(low=-90.000, high=90.000, size=1500)\n",
    "lngs = np.random.uniform(low=-180.000, high=180.000, size=1500)\n",
    "lat_lngs = zip(lats, lngs)\n",
    "lat_lngs"
   ]
  },
  {
   "cell_type": "code",
   "execution_count": null,
   "id": "accc89f7",
   "metadata": {},
   "outputs": [],
   "source": []
  }
 ],
 "metadata": {
  "kernelspec": {
   "display_name": "PythonData",
   "language": "python",
   "name": "pythondata"
  },
  "language_info": {
   "codemirror_mode": {
    "name": "ipython",
    "version": 3
   },
   "file_extension": ".py",
   "mimetype": "text/x-python",
   "name": "python",
   "nbconvert_exporter": "python",
   "pygments_lexer": "ipython3",
   "version": "3.9.12"
  }
 },
 "nbformat": 4,
 "nbformat_minor": 5
}
