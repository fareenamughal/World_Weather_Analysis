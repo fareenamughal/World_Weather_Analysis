{
 "cells": [
  {
   "cell_type": "code",
   "execution_count": 11,
   "id": "9678cbb4",
   "metadata": {},
   "outputs": [],
   "source": [
    "import random\n",
    "import numpy as np\n",
    "import timeit\n",
    "\n",
    "\n",
    "#For testing, we'll use the randint(), random(), randrange(), and uniform() functions."
   ]
  },
  {
   "cell_type": "code",
   "execution_count": 12,
   "id": "bd61d4e5",
   "metadata": {},
   "outputs": [
    {
     "data": {
      "text/plain": [
       "-38"
      ]
     },
     "execution_count": 12,
     "metadata": {},
     "output_type": "execute_result"
    }
   ],
   "source": [
    "# Will only return one integer, not a floating-point decimal\n",
    "random.randint(-90,90)"
   ]
  },
  {
   "cell_type": "code",
   "execution_count": 13,
   "id": "9f23c5e0",
   "metadata": {},
   "outputs": [],
   "source": [
    "# The random() function may help us. This function returns only a floating-point decimal number between 0 and 1.0.random.random()\n"
   ]
  },
  {
   "cell_type": "code",
   "execution_count": 14,
   "id": "4ccc8469",
   "metadata": {},
   "outputs": [
    {
     "data": {
      "text/plain": [
       "-38.55835225630424"
      ]
     },
     "execution_count": 14,
     "metadata": {},
     "output_type": "execute_result"
    }
   ],
   "source": [
    "random_number = random.randint(-90, 89) + random.random() \n",
    "random_number "
   ]
  },
  {
   "cell_type": "code",
   "execution_count": 15,
   "id": "32e2bf01",
   "metadata": {},
   "outputs": [],
   "source": [
    "# Initialize an empty list, latitudes.\n",
    "latitudes = [25.99999999999, 29.646554544454, 86.121111111111,- 85.00000454454, -39.5684544, 62.456487496, -89.464654456, 54.857878474, -69.4658464646, -65.546546546]"
   ]
  },
  {
   "cell_type": "code",
   "execution_count": 16,
   "id": "c93f058b",
   "metadata": {},
   "outputs": [],
   "source": [
    "# In the code block above, we:\n",
    "\n",
    "# Assign the variable x to 1.\n",
    "# Initialize an empty list, latitudes.\n",
    "# We create a while loop where we generate a random latitude and add it to the list.\n",
    "# After the random latitude is added to the list we add one to the variable \"x\".\n",
    "# The while loop condition is checked again and will continue to run as long as x is less than 11."
   ]
  },
  {
   "cell_type": "code",
   "execution_count": 17,
   "id": "26efbffc",
   "metadata": {},
   "outputs": [
    {
     "name": "stdout",
     "output_type": "stream",
     "text": [
      "[63.58824028987781, 55.80812046924586, 47.434869280779445, 28.816735210684897, 89.0644839893399, 84.63333996236588, 52.603805755882064, -46.637610295409004, 78.37993083693685, 6.905952047895342]\n"
     ]
    }
   ],
   "source": [
    "# Using these two functions, we can write an algorithm that will generate latitudes between -90 and 89. Here is a small sample of what it might take to generate ten random floating-point decimal latitudes between -90 and 89.\n",
    "x = 1\n",
    "latitudes = []\n",
    "while x < 11:\n",
    "    random_lat = random.randint(-90, 89) + random.random()\n",
    "    latitudes.append(random_lat)\n",
    "    x += 1\n",
    "print(latitudes)"
   ]
  },
  {
   "cell_type": "code",
   "execution_count": 18,
   "id": "25baa3ad",
   "metadata": {},
   "outputs": [
    {
     "data": {
      "text/plain": [
       "42"
      ]
     },
     "execution_count": 18,
     "metadata": {},
     "output_type": "execute_result"
    }
   ],
   "source": [
    "# The randrange() Function - \n",
    "# there is an option to add a step parameter and set it equal to an integer, which will generate increments of a given integer value, from the lower to the upper limit.\n",
    "# Will not generate a floating-point decimal number.\n",
    "random.randrange(-90,90, step =1)\n"
   ]
  },
  {
   "cell_type": "code",
   "execution_count": 19,
   "id": "6c2037c0",
   "metadata": {},
   "outputs": [
    {
     "data": {
      "text/plain": [
       "-18"
      ]
     },
     "execution_count": 19,
     "metadata": {},
     "output_type": "execute_result"
    }
   ],
   "source": [
    "random.randrange(-90,90, step =3)"
   ]
  },
  {
   "cell_type": "code",
   "execution_count": 20,
   "id": "15199bb6",
   "metadata": {},
   "outputs": [
    {
     "data": {
      "text/plain": [
       "71"
      ]
     },
     "execution_count": 20,
     "metadata": {},
     "output_type": "execute_result"
    }
   ],
   "source": [
    "random.randrange(-90,90, step =7)"
   ]
  },
  {
   "cell_type": "code",
   "execution_count": 21,
   "id": "22ac931a",
   "metadata": {},
   "outputs": [
    {
     "data": {
      "text/plain": [
       "84.1845158630737"
      ]
     },
     "execution_count": 21,
     "metadata": {},
     "output_type": "execute_result"
    }
   ],
   "source": [
    "# Returns a floating-point decimal number between the interval, -90 and 90.\n",
    "# Will not generate a whole integer.\n",
    "random.uniform(-90, 90)"
   ]
  },
  {
   "cell_type": "code",
   "execution_count": 22,
   "id": "d4476f68",
   "metadata": {},
   "outputs": [
    {
     "data": {
      "text/plain": [
       "30.65975400457316"
      ]
     },
     "execution_count": 22,
     "metadata": {},
     "output_type": "execute_result"
    }
   ],
   "source": [
    "# The NumPy module has a built-in random module, and supplements the built-in Python random module. \n",
    "# There is no need to import the random module if we import the NumPy module, as it's redundant.\n",
    "np.random.uniform(low=-90, high=90)"
   ]
  },
  {
   "cell_type": "code",
   "execution_count": 23,
   "id": "0db865cc",
   "metadata": {},
   "outputs": [
    {
     "data": {
      "text/plain": [
       "array([ 37.39189535,  38.56598998, -22.73347279,  75.72489297,\n",
       "       -26.51872202, -50.32603101,   4.6242069 ,  -8.06352512,\n",
       "        77.37665885,  44.46826425,  -2.75958166,  27.67726691,\n",
       "       -43.68993335,   1.59717618,  66.33976994,  38.18244818,\n",
       "        30.01043315, -76.97262125,  51.91185042,  -9.74189458,\n",
       "        16.6352035 , -72.19401297,  28.87915716, -47.5834277 ,\n",
       "        25.87770936, -79.56853206, -47.69109338,  48.09646448,\n",
       "       -14.88344113,  -4.14964396, -84.59666703,  34.85460186,\n",
       "       -20.09775024,  51.16449256,  12.38924792, -11.96934742,\n",
       "       -10.79435539,  87.00888435,   6.58149934, -59.33183762,\n",
       "        -0.76471879, -45.40739187, -63.67988661,  27.44205059,\n",
       "       -42.729406  ,  57.22585175,  83.01747419,  23.93530443,\n",
       "       -59.2777319 ,  43.9230058 ])"
      ]
     },
     "execution_count": 23,
     "metadata": {},
     "output_type": "execute_result"
    }
   ],
   "source": [
    "#To generate more than one floating-point decimal number between -90 and 90, we can add the size parameter when we use the NumPy module and set that equal to any whole number.\n",
    "np.random.uniform(-90.000, 90.000, size=50)"
   ]
  },
  {
   "cell_type": "code",
   "execution_count": 24,
   "id": "7198debc",
   "metadata": {},
   "outputs": [],
   "source": [
    "# To test how long a piece of code or function takes to run, we can import the \"timeit\" module and use the %timeit magic command when we run our code or call the function."
   ]
  },
  {
   "cell_type": "code",
   "execution_count": 25,
   "id": "fb19b6ef",
   "metadata": {},
   "outputs": [
    {
     "name": "stdout",
     "output_type": "stream",
     "text": [
      "14.8 µs ± 70.8 ns per loop (mean ± std. dev. of 7 runs, 100,000 loops each)\n"
     ]
    }
   ],
   "source": [
    "%timeit np.random.uniform(-90.000, 90.000, size=1500)\n"
   ]
  },
  {
   "cell_type": "code",
   "execution_count": 26,
   "id": "8604dacc",
   "metadata": {},
   "outputs": [
    {
     "name": "stdout",
     "output_type": "stream",
     "text": [
      "1.45 ms ± 1.53 µs per loop (mean ± std. dev. of 7 runs, 1,000 loops each)\n"
     ]
    }
   ],
   "source": [
    "def latitudes(size):\n",
    "    latitudes = []\n",
    "    x = 0\n",
    "    while x < (size):\n",
    "        random_lat = random.randint(-90, 90) + random.random()\n",
    "        latitudes.append(random_lat)\n",
    "        x += 1\n",
    "    return latitudes\n",
    "# Call the function with 1500.\n",
    "%timeit latitudes(1500)"
   ]
  },
  {
   "cell_type": "code",
   "execution_count": null,
   "id": "fd8f9f4a",
   "metadata": {},
   "outputs": [],
   "source": []
  },
  {
   "cell_type": "code",
   "execution_count": 37,
   "id": "8b935d9f",
   "metadata": {},
   "outputs": [
    {
     "name": "stdout",
     "output_type": "stream",
     "text": [
      "130 ns ± 1.48 ns per loop (mean ± std. dev. of 7 runs, 10,000,000 loops each)\n"
     ]
    }
   ],
   "source": [
    "# refactored code\n",
    "def random_lat(size):\n",
    "    random_lat = [0, 1500]\n",
    "    return random_lat\n",
    "# Call the function with 1500.\n",
    "%timeit random_lat(1500)"
   ]
  },
  {
   "cell_type": "code",
   "execution_count": null,
   "id": "dcf6c285",
   "metadata": {},
   "outputs": [],
   "source": []
  },
  {
   "cell_type": "code",
   "execution_count": null,
   "id": "409b8df2",
   "metadata": {},
   "outputs": [],
   "source": [
    "# Create a set of random latitude and longitude combinations.\n",
    "lats = np.random.uniform(low=-90.000, high=90.000, size=1500)\n",
    "lngs = np.random.uniform(low=-180.000, high=180.000, size=1500)\n",
    "lat_lngs = zip(lats, lngs)\n",
    "lat_lngs"
   ]
  },
  {
   "cell_type": "code",
   "execution_count": null,
   "id": "accc89f7",
   "metadata": {},
   "outputs": [],
   "source": []
  }
 ],
 "metadata": {
  "kernelspec": {
   "display_name": "PythonData",
   "language": "python",
   "name": "pythondata"
  },
  "language_info": {
   "codemirror_mode": {
    "name": "ipython",
    "version": 3
   },
   "file_extension": ".py",
   "mimetype": "text/x-python",
   "name": "python",
   "nbconvert_exporter": "python",
   "pygments_lexer": "ipython3",
   "version": "3.9.12"
  }
 },
 "nbformat": 4,
 "nbformat_minor": 5
}
