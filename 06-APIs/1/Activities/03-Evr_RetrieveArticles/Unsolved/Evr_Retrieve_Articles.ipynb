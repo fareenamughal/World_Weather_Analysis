{
 "cells": [
  {
   "cell_type": "code",
   "execution_count": 1,
   "metadata": {},
   "outputs": [
    {
     "name": "stdout",
     "output_type": "stream",
     "text": [
      "https://api.nytimes.com/svc/search/v2/articlesearch.json?q=vaccines&begin_date=20200101&end_date=20200130&api-key=zKRmjsbKZJREV39vPa4kPj7jlGdLx8hA\n"
     ]
    }
   ],
   "source": [
    "# Dependencies\n",
    "import requests\n",
    "from config import api_key\n",
    "\n",
    "url = \"https://api.nytimes.com/svc/search/v2/articlesearch.json?\"\n",
    "\n",
    "# Store a search term\n",
    "query = \"vaccines\"\n",
    "\n",
    "# Search for articles published between a begin and end date\n",
    "begin_date = \"20200101\"\n",
    "end_date = \"20200130\"\n",
    "\n",
    "# Build url\n",
    "\n",
    "url = url +\"q=\" + query + \"&begin_date=\" + begin_date +\"&end_date=\" + end_date + \"&api-key=\" + api_key\n",
    "print(url)"
   ]
  },
  {
   "cell_type": "code",
   "execution_count": 4,
   "metadata": {},
   "outputs": [
    {
     "name": "stdout",
     "output_type": "stream",
     "text": [
      "New technology and better coordination have sped up development. But a coronavirus vaccine is still months — and most likely years — away.\n",
      "Angry parents, an ultra-Orthodox Jewish group and anti-vaccine celebrities rallied to outmatch one of the state’s most powerful elected leaders.\n",
      "Young women who got only one dose of HPV vaccine, versus the recommended three, showed benefits against cancer-causing human papillomavirus.\n",
      "The proposal had been one of the nation’s broadest, but it came under intense criticism from vaccine skeptics.\n",
      "At a time when states and school districts are trying to increase vaccination rates, an aggressive strategy in Seattle appears to be paying off.\n",
      "Giving the vaccine intravenously to monkeys provided 90% protection against tuberculosis. More testing is needed before humans can be inoculated that way.\n",
      "Comparing the dangerous effects of three diseases with the minimal side effects of their corresponding vaccines.\n",
      "Almost as many people are falling ill as did two years ago, in what was a particularly severe flu season. But this season’s virus is unusual, and it’s too early to tell how dangerous.\n",
      "Forget fad diets and fitness gimmicks. Just stick to the basics.\n",
      "A respiratory virus that originated in China has infected more than 900,000 people worldwide, with at least 200,000 cases in the United States.\n"
     ]
    }
   ],
   "source": [
    "# Retrieve articles\n",
    "articles = requests.get(url).json()\n",
    "articles_list = articles[\"response\"][\"docs\"]\n",
    "                         \n",
    "for article in articles_list:\n",
    "    print(article[\"snippet\"])"
   ]
  },
  {
   "cell_type": "code",
   "execution_count": 3,
   "metadata": {},
   "outputs": [],
   "source": [
    "# BONUS: How would we get 30 results? \n",
    "# HINT: Look up the page query param"
   ]
  },
  {
   "cell_type": "code",
   "execution_count": null,
   "metadata": {},
   "outputs": [],
   "source": [
    "try"
   ]
  }
 ],
 "metadata": {
  "kernelspec": {
   "display_name": "Python 3 (ipykernel)",
   "language": "python",
   "name": "python3"
  },
  "language_info": {
   "codemirror_mode": {
    "name": "ipython",
    "version": 3
   },
   "file_extension": ".py",
   "mimetype": "text/x-python",
   "name": "python",
   "nbconvert_exporter": "python",
   "pygments_lexer": "ipython3",
   "version": "3.7.13"
  },
  "varInspector": {
   "cols": {
    "lenName": 16,
    "lenType": 16,
    "lenVar": 40
   },
   "kernels_config": {
    "python": {
     "delete_cmd_postfix": "",
     "delete_cmd_prefix": "del ",
     "library": "var_list.py",
     "varRefreshCmd": "print(var_dic_list())"
    },
    "r": {
     "delete_cmd_postfix": ") ",
     "delete_cmd_prefix": "rm(",
     "library": "var_list.r",
     "varRefreshCmd": "cat(var_dic_list()) "
    }
   },
   "types_to_exclude": [
    "module",
    "function",
    "builtin_function_or_method",
    "instance",
    "_Feature"
   ],
   "window_display": false
  }
 },
 "nbformat": 4,
 "nbformat_minor": 2
}
